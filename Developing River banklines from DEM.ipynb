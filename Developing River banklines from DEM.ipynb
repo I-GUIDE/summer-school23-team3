{
 "cells": [
  {
   "cell_type": "markdown",
   "id": "64dafcc8-2f41-4afd-b4e1-cc2eb20a7508",
   "metadata": {},
   "source": [
    "# Extracting River Banklines from Digital Elevation Model "
   ]
  },
  {
   "cell_type": "markdown",
   "id": "21ad2376-cb8b-4c3e-8b8d-c6c5832dffd3",
   "metadata": {},
   "source": [
    "##### The idea behind this is to extract river chanenel lines (riverback lines) using a DEM Data sets. \n",
    "##### Software used includes arcgis and arcgis online. "
   ]
  },
  {
   "cell_type": "markdown",
   "id": "3a1f1093-e385-4157-bcd2-cd3c573fd683",
   "metadata": {},
   "source": [
    "## Step 1: Developing Training samples "
   ]
  },
  {
   "cell_type": "markdown",
   "id": "14b12d46-8561-40f9-b686-3ceac77dba56",
   "metadata": {},
   "source": [
    "##### Training samples were developed based on the NLCD training 2011, samples parameters. (This is a predetermined training samples developed by the US GEOLOGICAL SURVEY)\n",
    "\n",
    "##### Training samples were assigned value for based on the feature of interest. In this case the river. 200 sets pixel squares were sampled for running the model.\n",
    "\n",
    "##### Training samples are representative sites for all the classes you want to classify in your image.The sites are stored as a point or polygon feature class with corresponding class names for each feature, and they are created or selected based on user knowledge of the source data and expected results"
   ]
  },
  {
   "cell_type": "markdown",
   "id": "3b623a6f-9954-44b9-a08c-fd8aac80e7a5",
   "metadata": {},
   "source": [
    "# Step 2: Executing Supervised Classification"
   ]
  },
  {
   "cell_type": "markdown",
   "id": "3f094a45-bd60-481e-bb04-9a0293460cc8",
   "metadata": {},
   "source": [
    "##### Pixed based supervised classification was adopted, since the surface area of water have similar pixel characteristics. \n",
    "##### Classification Schema and training samples generated from NLCD 2011.\n"
   ]
  },
  {
   "cell_type": "markdown",
   "id": "989b5b5c-65bb-4a20-be03-41516a8fb142",
   "metadata": {},
   "source": [
    "# Step 3 : Spatial and Pixel Visualisation Parameters"
   ]
  },
  {
   "cell_type": "markdown",
   "id": "f076add4-de26-49f4-af81-9fa9dddfd715",
   "metadata": {},
   "source": [
    "##### Spatial detail values falls within 1- 20, higher values gives more detailed in the classification. Features with similar spectral classes are characterised into different classes \n",
    "\n",
    "##### Spatial Detail values puts muhc emphasis on the level of importance given to the proximity betweennfeatures. A high is is more approperiate when dataset has smaller and clustered information. "
   ]
  },
  {
   "cell_type": "markdown",
   "id": "6d22638f-f318-49ee-a6c3-79b85147c7f5",
   "metadata": {},
   "source": [
    "# Step 4 Execute Task and Convert Results into Vector Datasets"
   ]
  },
  {
   "cell_type": "markdown",
   "id": "fc30d4c2-1187-4366-9d98-4b16462a0096",
   "metadata": {},
   "source": [
    "Preview resutls and the classification tool, finally the results is been converted into vector datasets and compared with the imagery "
   ]
  }
 ],
 "metadata": {
  "kernelspec": {
   "display_name": "Python 3 (ipykernel)",
   "language": "python",
   "name": "python3"
  },
  "language_info": {
   "codemirror_mode": {
    "name": "ipython",
    "version": 3
   },
   "file_extension": ".py",
   "mimetype": "text/x-python",
   "name": "python",
   "nbconvert_exporter": "python",
   "pygments_lexer": "ipython3",
   "version": "3.11.4"
  }
 },
 "nbformat": 4,
 "nbformat_minor": 5
}
