{
 "cells": [
  {
   "cell_type": "markdown",
   "id": "14582b09",
   "metadata": {},
   "source": [
    "<h1 style=\"text-align:center;line-height:1.5em;font-size:30px;\">River Boundary Detection and River Depth Determination</h1>\n",
    "<h3 style=\"text-align:center;line-height:1.5em;font-size:20px;\">Improving the 3D Representation of Rivers in Digital Elevation Models (DEM)</h3>\n",
    "<hr>\n",
    "\n",
    "<br> \n",
    "\n",
    "**Notebook Structure**\n",
    "<br> \n",
    "  \n",
    " 1. River Boundary Detection\n",
    " 2. Model Selection <br>\n",
    " 3. River Depth Determination<br>\n",
    "\n"
   ]
  },
  {
   "cell_type": "markdown",
   "id": "c362a061",
   "metadata": {},
   "source": [
    "<h1> River Boundary Selection</h1><br><p>Automating the detection of river boundaries stands as an imperative step in optimizing workflow processes. Currently, the predominant manual method relies heavily on on-screen digitization to delineate river boundaries, but its inefficiency becomes pronounced, especially in vast expanses. Thus, adopting an automated approach for river boundary detection could notably uplift process efficiency, concurrently preserving precious human resources and time.</p><br>\n",
    "<p>Furthermore, this automated solution would not only expedite workflow but also facilitate real-time or near-real-time processing. Such capabilities in the algorithms could ensure swift integration of updated river boundaries into the 3D Representation of Rivers in DEM, leading to a dynamic and accurate portrayal of river systems.</p>"
   ]
  },
  {
   "cell_type": "markdown",
   "id": "19cbabee",
   "metadata": {},
   "source": [
    "<h1> Model Selection</h1>\n",
    "\n",
    "<h3>U-Net</h3>\n",
    "<p>U-Net is a deep learning architecture widely used for image segmentation tasks. In river detection, U-Net can be trained on satellite or aerial imagery to learn the features associated with rivers. By inputting an image patch, U-Net produces a corresponding segmentation map where each pixel is classified as either part of the river or not. This enables automatic delineation of river boundaries by analyzing the spatial patterns and textures unique to rivers.</p>\n",
    "<p> For U-Net training several DEM derived feature layers such as:\n",
    "    <ul>\n",
    "  <li>Slope</li>\n",
    "  <li>Flow accumulation</li>\n",
    "  <li>Geometric curvature</li>\n",
    "  <li>Positive openness</li>\n",
    "  <li>Topographic position index</li>\n",
    "</ul>\n",
    "are required to develop the model. Due to computation limitation and time constraint three of the five layers were developed. However, the model training is not completed.\n",
    "<br>\n",
    "<h3>SegmentGeo</h3>\n",
    "<p>SegmentGEo is a geospatial-focused segmentation framework designed to work with satellite imagery and geospatial data. It takes advantage of both spectral and spatial information present in these images. In river detection, SegmentGEo can utilize multispectral data, incorporating bands beyond visible light (such as infrared), which are valuable for distinguishing water bodies like rivers from their surroundings. By combining spectral and spatial cues, SegmentGEo enhances the accuracy of river boundary extraction.<br>\n",
    "Described below it the implemetation using SegmentGeo.</p>\n"
   ]
  },
  {
   "cell_type": "markdown",
   "id": "acfb92c7",
   "metadata": {},
   "source": [
    "## Install dependencies"
   ]
  },
  {
   "cell_type": "code",
   "execution_count": null,
   "id": "7fc69f76",
   "metadata": {},
   "outputs": [],
   "source": [
    "!%pip install segment-geospatial groundingdino-py leafmap localtileserver"
   ]
  },
  {
   "cell_type": "code",
   "execution_count": null,
   "id": "171443ea",
   "metadata": {},
   "outputs": [],
   "source": [
    "import leafmap\n",
    "from samgeo import tms_to_geotiff\n",
    "from samgeo.text_sam import LangSAM"
   ]
  },
  {
   "cell_type": "markdown",
   "id": "9a9f351c",
   "metadata": {},
   "source": [
    "## Create an interactive map"
   ]
  },
  {
   "cell_type": "code",
   "execution_count": null,
   "id": "b4dedc96",
   "metadata": {},
   "outputs": [],
   "source": [
    "m = leafmap.Map(center=[40.683934, -86.714739], zoom=18, height=\"800px\")\n",
    "# m.add_basemap(\"SATELLITE\")\n",
    "m"
   ]
  },
  {
   "cell_type": "markdown",
   "id": "61db5d5f",
   "metadata": {},
   "source": [
    "## Download a sample image\n",
    "\n",
    "Pan and zoom the map to select the area of interest. Use the draw tools to draw a polygon or rectangle on the map"
   ]
  },
  {
   "cell_type": "code",
   "execution_count": null,
   "id": "1bfe324e",
   "metadata": {},
   "outputs": [],
   "source": [
    "bbox = m.user_roi_bounds()\n",
    "if bbox is None:\n",
    "    bbox = [-51.2565, -22.1777, -51.2512, -22.175]"
   ]
  },
  {
   "cell_type": "markdown",
   "id": "06882c9d",
   "metadata": {},
   "source": [
    "image = \"Image.tif\"\n",
    "tms_to_geotiff(output=image, bbox=bbox, zoom=17, source=\"Satellite\", overwrite=True)"
   ]
  },
  {
   "cell_type": "markdown",
   "id": "82df4a1a",
   "metadata": {},
   "source": [
    "## Display the downloaded image on the map."
   ]
  },
  {
   "cell_type": "code",
   "execution_count": null,
   "id": "505055a1",
   "metadata": {},
   "outputs": [],
   "source": [
    "m.layers[-1].visible = False\n",
    "m.add_raster(image, layer_name=\"Image\")\n",
    "m"
   ]
  },
  {
   "cell_type": "markdown",
   "id": "ead1ee84",
   "metadata": {},
   "source": [
    "## Initialize LangSAM class\n",
    "\n",
    "The initialization of the LangSAM class might take a few minutes. The initialization downloads the model weights and sets up the model for inference."
   ]
  },
  {
   "cell_type": "code",
   "execution_count": null,
   "id": "4674671f",
   "metadata": {},
   "outputs": [],
   "source": [
    "sam = LangSAM()"
   ]
  },
  {
   "cell_type": "markdown",
   "id": "576e94af",
   "metadata": {},
   "source": [
    "## Specify text prompts\n",
    "\n",
    "Used to limit the output to only rivers\n"
   ]
  },
  {
   "cell_type": "markdown",
   "id": "f7fbff96",
   "metadata": {},
   "source": [
    "sam.predict(image, text_prompt, box_threshold=0.25, text_threshold=0.24)"
   ]
  },
  {
   "cell_type": "markdown",
   "id": "1fac7c9f",
   "metadata": {},
   "source": [
    "### Visualize the results\n",
    "\n",
    "Show the result with bounding boxes on the map."
   ]
  },
  {
   "cell_type": "code",
   "execution_count": null,
   "id": "e1f7f2ff",
   "metadata": {},
   "outputs": [],
   "source": [
    "sam.show_anns(\n",
    "    cmap='Greens',\n",
    "    box_color='red',\n",
    "    title='Automatic Segmentation of Rivers',\n",
    "    blend=True,\n",
    ")"
   ]
  },
  {
   "cell_type": "markdown",
   "id": "b31975b5",
   "metadata": {},
   "source": [
    "## Show the result as a grayscale image"
   ]
  },
  {
   "cell_type": "code",
   "execution_count": null,
   "id": "e2d4475f",
   "metadata": {},
   "outputs": [],
   "source": [
    "sam.show_anns(\n",
    "    cmap='Greys_r',\n",
    "    add_boxes=False,\n",
    "    alpha=1,\n",
    "    title='Automatic Segmentation of Rivers',\n",
    "    blend=False,\n",
    "    output='river.tif',\n",
    ")"
   ]
  },
  {
   "cell_type": "markdown",
   "id": "a65913ca",
   "metadata": {},
   "source": [
    "## Convert the result to a vector format."
   ]
  },
  {
   "cell_type": "code",
   "execution_count": null,
   "id": "69ca5106",
   "metadata": {},
   "outputs": [],
   "source": [
    "sam.raster_to_vector(\"river.tif\", \"river.shp\")"
   ]
  },
  {
   "cell_type": "markdown",
   "id": "14f140de",
   "metadata": {},
   "source": [
    "## Show the results on the interactive map."
   ]
  },
  {
   "cell_type": "code",
   "execution_count": null,
   "id": "a5b58432",
   "metadata": {},
   "outputs": [],
   "source": [
    "m.add_raster(\"river.tif\", layer_name=\"Rivers\", palette=\"Greens\", opacity=0.5, nodata=0)\n",
    "style = {\n",
    "    \"color\": \"#3388ff\",\n",
    "    \"weight\": 2,\n",
    "    \"fillColor\": \"#7c4185\",\n",
    "    \"fillOpacity\": 0.5,\n",
    "}\n",
    "m.add_vector(\"river.shp\", layer_name=\"Vector\", style=style)\n",
    "m"
   ]
  },
  {
   "cell_type": "markdown",
   "id": "2a01271b",
   "metadata": {},
   "source": [
    "***"
   ]
  },
  {
   "cell_type": "markdown",
   "id": "539a99c2",
   "metadata": {},
   "source": [
    "<h1>River Depth Determination</h1>"
   ]
  },
  {
   "cell_type": "markdown",
   "id": "1c208120",
   "metadata": {},
   "source": [
    "<p> Automatic river depth determination using satellite imagery offers a significant advancement over manual surveys in terms of efficiency and coverage. Manual surveys are often time-consuming, resource-intensive, and limited by accessibility to various parts of the river and practically impossibe to survey al river bodies. In contrast, satellite imagery provides a broader and more accessible view of rivers, enabling consistent and frequent monitoring of river depth changes.</p><br>\n",
    "\n",
    "<h3>Methods</h3>\n",
    "<p>Remote Sensing and Bathymetric Models: Satellite imagery captures water surface patterns, which vary with changes in river depth. Remote sensing techniques, such as using multispectral data, LiDAR, or Synthetic Aperture Radar (SAR), can be employed to measure these changes. Bathymetric models are then created by correlating the observed surface patterns with known river bathymetry. These models allow for river depth estimation over large areas without the need for extensive fieldwork.\n",
    "\n",
    "Machine Learning Algorithms: Machine learning models, such as neural networks, can be trained on satellite images and corresponding ground-truth river depth data collected through manual surveys. These models learn to recognize features in the imagery that correlate with varying river depths. Once trained, they can predict river depths in new satellite images. This method provides a scalable solution for frequent and wide-ranging river depth assessment.\n",
    "</p>\n",
    "\n",
    "<h3> Efforts and Challanges</h3>\n",
    "1. Bathymetric measurement using ICESAT and Landsat 9<br>\n",
    "    Missing or unavailabe electronic water chart<br>\n",
    "2. Estimation of maximum depth (“missing depth”) of river channels(Results in another Notebook)"
   ]
  }
 ],
 "metadata": {
  "kernelspec": {
   "display_name": "Python 3 (ipykernel)",
   "language": "python",
   "name": "python3"
  },
  "language_info": {
   "codemirror_mode": {
    "name": "ipython",
    "version": 3
   },
   "file_extension": ".py",
   "mimetype": "text/x-python",
   "name": "python",
   "nbconvert_exporter": "python",
   "pygments_lexer": "ipython3",
   "version": "3.8.9"
  }
 },
 "nbformat": 4,
 "nbformat_minor": 5
}
